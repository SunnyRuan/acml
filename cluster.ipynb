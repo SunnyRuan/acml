{
  "nbformat": 4,
  "nbformat_minor": 0,
  "metadata": {
    "colab": {
      "name": "cluster.ipynb",
      "provenance": [],
      "authorship_tag": "ABX9TyOYqX4HAm+LB4ZGaSVfdnLW",
      "include_colab_link": true
    },
    "kernelspec": {
      "name": "python3",
      "display_name": "Python 3"
    }
  },
  "cells": [
    {
      "cell_type": "markdown",
      "metadata": {
        "id": "view-in-github",
        "colab_type": "text"
      },
      "source": [
        "<a href=\"https://colab.research.google.com/github/SunnyRuan/acml/blob/main/cluster.ipynb\" target=\"_parent\"><img src=\"https://colab.research.google.com/assets/colab-badge.svg\" alt=\"Open In Colab\"/></a>"
      ]
    },
    {
      "cell_type": "code",
      "metadata": {
        "id": "Wh_Ikie-Dy1H"
      },
      "source": [
        "import pandas as pd\n",
        "from sklearn.datasets import load_iris\n",
        "iris = load_iris()\n",
        "df = pd.DataFrame(iris[\"data\"],columns=iris[\"feature_names\"])\n",
        "df[\"ans\"]=iris[\"target\"]\n",
        "df.to_csv(\"iris.csv\",encoding=\"utf-8\",index=False)\n",
        "#printdata\n",
        "df"
      ],
      "execution_count": null,
      "outputs": []
    },
    {
      "cell_type": "code",
      "metadata": {
        "id": "hKSrAZjOKOIa"
      },
      "source": [
        "from sklearn.metrics import silhouette_score\n",
        "for in range(2,20):\n",
        "  test = Kmeans(n_clusters=k)\n",
        "  test.fit(iris[\"data\"])\n",
        "  score "
      ],
      "execution_count": null,
      "outputs": []
    },
    {
      "cell_type": "code",
      "metadata": {
        "id": "0w7gUUpzMfpn"
      },
      "source": [
        "import matplotlib.pyplot as plt\n",
        "import seaborn as sns\n",
        "sns.scatterplot(df[\"special length(cm)\"]\n",
        "                \n",
        "                )"
      ],
      "execution_count": null,
      "outputs": []
    }
  ]
}